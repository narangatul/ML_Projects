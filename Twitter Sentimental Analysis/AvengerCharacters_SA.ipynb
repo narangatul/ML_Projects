{
 "cells": [
  {
   "cell_type": "code",
   "execution_count": 29,
   "metadata": {},
   "outputs": [],
   "source": [
    "# Importing tweepy for twitter API and Textblob for sentiment analysis\n",
    "import tweepy\n",
    "from textblob import TextBlob\n",
    "from textblob_fr import PatternTagger, PatternAnalyzer\n",
    "import numpy as np"
   ]
  },
  {
   "cell_type": "code",
   "execution_count": 30,
   "metadata": {},
   "outputs": [],
   "source": [
    "#Setting up keys to access Twitter API\n",
    "ckey = 'Put Your Twitter API Key'\n",
    "csecret = 'Put Your Twitter API Key'\n",
    "atoken = 'Put Your Twitter API Key'\n",
    "asecret = 'Put Your Twitter API Key'"
   ]
  },
  {
   "cell_type": "code",
   "execution_count": 31,
   "metadata": {},
   "outputs": [],
   "source": [
    "#Setting up Auth handler\n",
    "auth = tweepy.OAuthHandler(ckey, csecret)\n",
    "\n",
    "#Set access token method\n",
    "auth.set_access_token(atoken, asecret)"
   ]
  },
  {
   "cell_type": "code",
   "execution_count": 32,
   "metadata": {},
   "outputs": [],
   "source": [
    "# Creating api variable\n",
    "api = tweepy.API(auth)"
   ]
  },
  {
   "cell_type": "code",
   "execution_count": 33,
   "metadata": {},
   "outputs": [],
   "source": [
    "#List of characters in Avengers Infinity Wars:\n",
    "characters = ['guardiansofthegalaxy', 'Thor', 'IronMan', 'THANOS', 'CaptainAmerica', 'Hulk']\n",
    "#Hashtag related to the Movie\n",
    "name_of_movie = \"Avengers\" \n",
    "#Date of the Movie promotions before release : Febuary 01 to 28th April\n",
    "since_date = \"2018-2-01\"\n",
    "until_date = \"2018-4-28\"\n"
   ]
  },
  {
   "cell_type": "code",
   "execution_count": 35,
   "metadata": {},
   "outputs": [],
   "source": [
    "#Retrieve Tweets and Save Them\n",
    "all_polarities = dict()\n",
    "for character in characters:\n",
    "    this_character_polarities = []\n",
    "    #Get tweets about the characters and movie avengers\n",
    "    this_character_tweets = api.search(q=[name_of_movie, character], count =100, since = since_date, until = until_date)\n",
    "    #SAve tweets in csv\n",
    "    with open('%s_tweets.csv' % character, 'w') as this_character_file:\n",
    "        this_character_file.write('tweet,sentiment_label\\n')\n",
    "        for tweet in this_character_tweets:\n",
    "            analysis = TextBlob(tweet.text, pos_tagger= PatternTagger(), analyzer=PatternAnalyzer())\n",
    "            #Get the label corresponding to the sentiment analysis\n",
    "            this_character_polarities.append(analysis.sentiment[0])\n",
    "            this_character_file.write('%s\\n' % (tweet.text.encode('utf8')))\n",
    "    #Save the mean of final results\n",
    "    all_polarities[character] = np.mean(this_character_polarities) "
   ]
  },
  {
   "cell_type": "code",
   "execution_count": 37,
   "metadata": {
    "scrolled": true
   },
   "outputs": [
    {
     "data": {
      "text/plain": [
       "{'CaptainAmerica': 0.026615625,\n",
       " 'Hulk': 0.02075,\n",
       " 'IronMan': -0.052034374999999994,\n",
       " 'THANOS': -0.079,\n",
       " 'Thor': 0.027650520833333334,\n",
       " 'guardiansofthegalaxy': 0.021525}"
      ]
     },
     "execution_count": 37,
     "metadata": {},
     "output_type": "execute_result"
    }
   ],
   "source": [
    "all_polarities"
   ]
  },
  {
   "cell_type": "code",
   "execution_count": null,
   "metadata": {},
   "outputs": [],
   "source": []
  }
 ],
 "metadata": {
  "kernelspec": {
   "display_name": "Python 3",
   "language": "python",
   "name": "python3"
  },
  "language_info": {
   "codemirror_mode": {
    "name": "ipython",
    "version": 3
   },
   "file_extension": ".py",
   "mimetype": "text/x-python",
   "name": "python",
   "nbconvert_exporter": "python",
   "pygments_lexer": "ipython3",
   "version": "3.6.4"
  }
 },
 "nbformat": 4,
 "nbformat_minor": 2
}
